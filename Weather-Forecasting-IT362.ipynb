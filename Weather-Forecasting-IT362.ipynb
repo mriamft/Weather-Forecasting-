{
 "cells": [
  {
   "cell_type": "code",
   "execution_count": 1,
   "id": "82c144a7",
   "metadata": {},
   "outputs": [],
   "source": [
    "import openmeteo_requests"
   ]
  },
  {
   "cell_type": "code",
   "execution_count": 2,
   "id": "eac49d53",
   "metadata": {},
   "outputs": [],
   "source": [
    "import requests_cache\n",
    "import pandas as pd\n",
    "from retry_requests import retry"
   ]
  },
  {
   "cell_type": "code",
   "execution_count": 3,
   "id": "b2866acf",
   "metadata": {},
   "outputs": [],
   "source": [
    "# Setup the Open-Meteo API client with cache and retry on error\n",
    "cache_session = requests_cache.CachedSession('.cache', expire_after = -1)\n",
    "retry_session = retry(cache_session, retries = 5, backoff_factor = 0.2)\n",
    "openmeteo = openmeteo_requests.Client(session = retry_session)"
   ]
  },
  {
   "cell_type": "code",
   "execution_count": 4,
   "id": "2dfc2ba1",
   "metadata": {},
   "outputs": [],
   "source": [
    "# Make sure all required weather variables are listed here\n",
    "# The order of variables in hourly or daily is important to assign them correctly below\n",
    "url = \"https://archive-api.open-meteo.com/v1/archive?latitude=25&longitude=45&start_date=2021-01-01&end_date=2024-01-01&daily=weather_code,temperature_2m_max,temperature_2m_min,temperature_2m_mean,apparent_temperature_mean,sunrise,sunset,daylight_duration,rain_sum,precipitation_hours,wind_speed_10m_max,wind_direction_10m_dominant&timezone=auto\"\n",
    "params = {\n",
    "\t\"latitude\": 25,\n",
    "\t\"longitude\": 45,\n",
    "\t\"start_date\": \"2023-01-01\",\n",
    "\t\"end_date\": \"2024-01-01\",\n",
    "\t\"daily\": [\"weather_code\", \"temperature_2m_max\", \"temperature_2m_min\", \"temperature_2m_mean\", \"apparent_temperature_mean\", \"sunrise\", \"sunset\", \"daylight_duration\", \"rain_sum\", \"precipitation_hours\", \"wind_speed_10m_max\", \"wind_direction_10m_dominant\"],\n",
    "\t\"timezone\": \"auto\"\n",
    "}\n",
    "responses = openmeteo.weather_api(url, params=params)"
   ]
  },
  {
   "cell_type": "code",
   "execution_count": 5,
   "id": "da85f74f",
   "metadata": {},
   "outputs": [
    {
     "name": "stdout",
     "output_type": "stream",
     "text": [
      "Coordinates 24.9912109375°N 45.048439025878906°E\n",
      "Elevation 789.0 m asl\n",
      "Timezone b'Asia/Riyadh' b'+03'\n",
      "Timezone difference to GMT+0 10800 s\n"
     ]
    }
   ],
   "source": [
    "# Process first location. Add a for-loop for multiple locations or weather models\n",
    "response = responses[0]\n",
    "print(f\"Coordinates {response.Latitude()}°N {response.Longitude()}°E\")\n",
    "print(f\"Elevation {response.Elevation()} m asl\")\n",
    "print(f\"Timezone {response.Timezone()} {response.TimezoneAbbreviation()}\")\n",
    "print(f\"Timezone difference to GMT+0 {response.UtcOffsetSeconds()} s\")"
   ]
  },
  {
   "cell_type": "code",
   "execution_count": 6,
   "id": "23540ed2",
   "metadata": {},
   "outputs": [
    {
     "name": "stdout",
     "output_type": "stream",
     "text": [
      "                    date  weather_code  temperature_2m_max  \\\n",
      "0    2020-12-31 21:00:00           1.0           20.274000   \n",
      "1    2021-01-01 21:00:00           1.0           21.274000   \n",
      "2    2021-01-02 21:00:00           1.0           22.824001   \n",
      "3    2021-01-03 21:00:00          51.0           25.474001   \n",
      "4    2021-01-04 21:00:00           1.0           24.174002   \n",
      "...                  ...           ...                 ...   \n",
      "1091 2023-12-27 21:00:00           2.0           25.424002   \n",
      "1092 2023-12-28 21:00:00          63.0           21.474001   \n",
      "1093 2023-12-29 21:00:00          61.0           22.574001   \n",
      "1094 2023-12-30 21:00:00          51.0           21.024000   \n",
      "1095 2023-12-31 21:00:00           3.0           19.774000   \n",
      "\n",
      "      temperature_2m_min  temperature_2m_mean  apparent_temperature_mean  \\\n",
      "0                 11.824            15.705253                  12.249824   \n",
      "1                 10.924            15.905251                  13.669918   \n",
      "2                 10.924            16.865667                  14.348634   \n",
      "3                 13.174            18.134417                  15.169812   \n",
      "4                 11.024            17.330252                  14.125107   \n",
      "...                  ...                  ...                        ...   \n",
      "1091              13.624            19.286499                  16.172712   \n",
      "1092              14.174            17.705252                  15.500656   \n",
      "1093              12.374            17.076082                  14.538775   \n",
      "1094              12.674            16.373999                  14.619618   \n",
      "1095              11.474            15.307334                  14.563854   \n",
      "\n",
      "      sunrise  sunset  daylight_duration  rain_sum  precipitation_hours  \\\n",
      "0           0       0       38223.089844       0.0                  0.0   \n",
      "1           0       0       38246.441406       0.0                  0.0   \n",
      "2           0       0       38271.636719       0.0                  0.0   \n",
      "3           0       0       38298.636719       0.1                  1.0   \n",
      "4           0       0       38327.417969       0.0                  0.0   \n",
      "...       ...     ...                ...       ...                  ...   \n",
      "1091        0       0       38135.679688       0.0                  0.0   \n",
      "1092        0       0       38150.144531       4.0                  4.0   \n",
      "1093        0       0       38166.691406       2.0                  3.0   \n",
      "1094        0       0       38185.273438       0.1                  1.0   \n",
      "1095        0       0       38205.855469       0.0                  0.0   \n",
      "\n",
      "      wind_speed_10m_max  wind_direction_10m_dominant  \n",
      "0              24.162947                   146.159409  \n",
      "1              15.990646                   134.587845  \n",
      "2              20.304129                   141.871399  \n",
      "3              26.302181                   152.626801  \n",
      "4              23.313995                   124.890152  \n",
      "...                  ...                          ...  \n",
      "1091           25.420181                   164.470322  \n",
      "1092           27.729347                   140.413010  \n",
      "1093           23.535301                   119.970192  \n",
      "1094           24.905132                   150.378220  \n",
      "1095           19.319628                   353.817200  \n",
      "\n",
      "[1096 rows x 13 columns]\n"
     ]
    }
   ],
   "source": [
    "# Process daily data. The order of variables needs to be the same as requested.\n",
    "daily = response.Daily()\n",
    "daily_weather_code = daily.Variables(0).ValuesAsNumpy()\n",
    "daily_temperature_2m_max = daily.Variables(1).ValuesAsNumpy()\n",
    "daily_temperature_2m_min = daily.Variables(2).ValuesAsNumpy()\n",
    "daily_temperature_2m_mean = daily.Variables(3).ValuesAsNumpy()\n",
    "daily_apparent_temperature_mean = daily.Variables(4).ValuesAsNumpy()\n",
    "daily_sunrise = daily.Variables(5).ValuesAsNumpy()\n",
    "daily_sunset = daily.Variables(6).ValuesAsNumpy()\n",
    "daily_daylight_duration = daily.Variables(7).ValuesAsNumpy()\n",
    "daily_rain_sum = daily.Variables(8).ValuesAsNumpy()\n",
    "daily_precipitation_hours = daily.Variables(9).ValuesAsNumpy()\n",
    "daily_wind_speed_10m_max = daily.Variables(10).ValuesAsNumpy()\n",
    "daily_wind_direction_10m_dominant = daily.Variables(11).ValuesAsNumpy()\n",
    "\n",
    "daily_data = {\"date\": pd.date_range(\n",
    "\tstart = pd.to_datetime(daily.Time(), unit = \"s\"),\n",
    "\tend = pd.to_datetime(daily.TimeEnd(), unit = \"s\"),\n",
    "\tfreq = pd.Timedelta(seconds = daily.Interval()),\n",
    "\tinclusive = \"left\"\n",
    ")}\n",
    "daily_data[\"weather_code\"] = daily_weather_code\n",
    "daily_data[\"temperature_2m_max\"] = daily_temperature_2m_max\n",
    "daily_data[\"temperature_2m_min\"] = daily_temperature_2m_min\n",
    "daily_data[\"temperature_2m_mean\"] = daily_temperature_2m_mean\n",
    "daily_data[\"apparent_temperature_mean\"] = daily_apparent_temperature_mean\n",
    "daily_data[\"sunrise\"] = daily_sunrise\n",
    "daily_data[\"sunset\"] = daily_sunset\n",
    "daily_data[\"daylight_duration\"] = daily_daylight_duration\n",
    "daily_data[\"rain_sum\"] = daily_rain_sum\n",
    "daily_data[\"precipitation_hours\"] = daily_precipitation_hours\n",
    "daily_data[\"wind_speed_10m_max\"] = daily_wind_speed_10m_max\n",
    "daily_data[\"wind_direction_10m_dominant\"] = daily_wind_direction_10m_dominant\n",
    "\n",
    "daily_dataframe = pd.DataFrame(data = daily_data)\n",
    "print(daily_dataframe)\n"
   ]
  }
 ],
 "metadata": {
  "kernelspec": {
   "display_name": "Python 3 (ipykernel)",
   "language": "python",
   "name": "python3"
  },
  "language_info": {
   "codemirror_mode": {
    "name": "ipython",
    "version": 3
   },
   "file_extension": ".py",
   "mimetype": "text/x-python",
   "name": "python",
   "nbconvert_exporter": "python",
   "pygments_lexer": "ipython3",
   "version": "3.11.4"
  }
 },
 "nbformat": 4,
 "nbformat_minor": 5
}
